{
 "cells": [
  {
   "cell_type": "code",
   "execution_count": 2,
   "id": "e74a6982-50da-4dc0-962e-b1df2d379d6c",
   "metadata": {},
   "outputs": [],
   "source": [
    "import pandas as pd\n",
    "import numpy as np\n",
    "from scipy.stats import ttest_ind, shapiro, mannwhitneyu, f_oneway\n",
    "from sklearn.linear_model import LinearRegression\n",
    "import matplotlib.pyplot as plt\n",
    "import seaborn as sns\n",
    "import scipy.stats as stats\n"
   ]
  },
  {
   "cell_type": "code",
   "execution_count": 3,
   "id": "3c45906f-437d-4959-a146-a2447bab7564",
   "metadata": {},
   "outputs": [
    {
     "data": {
      "text/html": [
       "<div>\n",
       "<style scoped>\n",
       "    .dataframe tbody tr th:only-of-type {\n",
       "        vertical-align: middle;\n",
       "    }\n",
       "\n",
       "    .dataframe tbody tr th {\n",
       "        vertical-align: top;\n",
       "    }\n",
       "\n",
       "    .dataframe thead th {\n",
       "        text-align: right;\n",
       "    }\n",
       "</style>\n",
       "<table border=\"1\" class=\"dataframe\">\n",
       "  <thead>\n",
       "    <tr style=\"text-align: right;\">\n",
       "      <th></th>\n",
       "      <th>Date</th>\n",
       "      <th>Close/Last</th>\n",
       "      <th>Volume</th>\n",
       "      <th>Open</th>\n",
       "      <th>High</th>\n",
       "      <th>Low</th>\n",
       "    </tr>\n",
       "  </thead>\n",
       "  <tbody>\n",
       "    <tr>\n",
       "      <th>0</th>\n",
       "      <td>02/28/2020</td>\n",
       "      <td>$273.36</td>\n",
       "      <td>106721200</td>\n",
       "      <td>$257.26</td>\n",
       "      <td>$278.41</td>\n",
       "      <td>$256.37</td>\n",
       "    </tr>\n",
       "    <tr>\n",
       "      <th>1</th>\n",
       "      <td>02/27/2020</td>\n",
       "      <td>$273.52</td>\n",
       "      <td>80151380</td>\n",
       "      <td>$281.1</td>\n",
       "      <td>$286</td>\n",
       "      <td>$272.96</td>\n",
       "    </tr>\n",
       "    <tr>\n",
       "      <th>2</th>\n",
       "      <td>02/26/2020</td>\n",
       "      <td>$292.65</td>\n",
       "      <td>49678430</td>\n",
       "      <td>$286.53</td>\n",
       "      <td>$297.88</td>\n",
       "      <td>$286.5</td>\n",
       "    </tr>\n",
       "    <tr>\n",
       "      <th>3</th>\n",
       "      <td>02/25/2020</td>\n",
       "      <td>$288.08</td>\n",
       "      <td>57668360</td>\n",
       "      <td>$300.95</td>\n",
       "      <td>$302.53</td>\n",
       "      <td>$286.13</td>\n",
       "    </tr>\n",
       "    <tr>\n",
       "      <th>4</th>\n",
       "      <td>02/24/2020</td>\n",
       "      <td>$298.18</td>\n",
       "      <td>55548830</td>\n",
       "      <td>$297.26</td>\n",
       "      <td>$304.18</td>\n",
       "      <td>$289.23</td>\n",
       "    </tr>\n",
       "    <tr>\n",
       "      <th>...</th>\n",
       "      <td>...</td>\n",
       "      <td>...</td>\n",
       "      <td>...</td>\n",
       "      <td>...</td>\n",
       "      <td>...</td>\n",
       "      <td>...</td>\n",
       "    </tr>\n",
       "    <tr>\n",
       "      <th>2513</th>\n",
       "      <td>03/05/2010</td>\n",
       "      <td>$31.2786</td>\n",
       "      <td>224647427</td>\n",
       "      <td>$30.7057</td>\n",
       "      <td>$31.3857</td>\n",
       "      <td>$30.6614</td>\n",
       "    </tr>\n",
       "    <tr>\n",
       "      <th>2514</th>\n",
       "      <td>03/04/2010</td>\n",
       "      <td>$30.1014</td>\n",
       "      <td>89591907</td>\n",
       "      <td>$29.8971</td>\n",
       "      <td>$30.1314</td>\n",
       "      <td>$29.8043</td>\n",
       "    </tr>\n",
       "    <tr>\n",
       "      <th>2515</th>\n",
       "      <td>03/03/2010</td>\n",
       "      <td>$29.9043</td>\n",
       "      <td>92846488</td>\n",
       "      <td>$29.8486</td>\n",
       "      <td>$29.9814</td>\n",
       "      <td>$29.7057</td>\n",
       "    </tr>\n",
       "    <tr>\n",
       "      <th>2516</th>\n",
       "      <td>03/02/2010</td>\n",
       "      <td>$29.8357</td>\n",
       "      <td>141486282</td>\n",
       "      <td>$29.99</td>\n",
       "      <td>$30.1186</td>\n",
       "      <td>$29.6771</td>\n",
       "    </tr>\n",
       "    <tr>\n",
       "      <th>2517</th>\n",
       "      <td>03/01/2010</td>\n",
       "      <td>$29.8557</td>\n",
       "      <td>137312041</td>\n",
       "      <td>$29.3928</td>\n",
       "      <td>$29.9286</td>\n",
       "      <td>$29.35</td>\n",
       "    </tr>\n",
       "  </tbody>\n",
       "</table>\n",
       "<p>2518 rows × 6 columns</p>\n",
       "</div>"
      ],
      "text/plain": [
       "            Date  Close/Last     Volume       Open       High        Low\n",
       "0     02/28/2020     $273.36  106721200    $257.26    $278.41    $256.37\n",
       "1     02/27/2020     $273.52   80151380     $281.1       $286    $272.96\n",
       "2     02/26/2020     $292.65   49678430    $286.53    $297.88     $286.5\n",
       "3     02/25/2020     $288.08   57668360    $300.95    $302.53    $286.13\n",
       "4     02/24/2020     $298.18   55548830    $297.26    $304.18    $289.23\n",
       "...          ...         ...        ...        ...        ...        ...\n",
       "2513  03/05/2010    $31.2786  224647427   $30.7057   $31.3857   $30.6614\n",
       "2514  03/04/2010    $30.1014   89591907   $29.8971   $30.1314   $29.8043\n",
       "2515  03/03/2010    $29.9043   92846488   $29.8486   $29.9814   $29.7057\n",
       "2516  03/02/2010    $29.8357  141486282     $29.99   $30.1186   $29.6771\n",
       "2517  03/01/2010    $29.8557  137312041   $29.3928   $29.9286     $29.35\n",
       "\n",
       "[2518 rows x 6 columns]"
      ]
     },
     "execution_count": 3,
     "metadata": {},
     "output_type": "execute_result"
    }
   ],
   "source": [
    "# Wczytanie danych do DataFrame\n",
    "file_path = 'HistoricalQuotes.csv'\n",
    "data = pd.read_csv(file_path)\n",
    "data"
   ]
  },
  {
   "cell_type": "code",
   "execution_count": 4,
   "id": "3a7bffec-20b6-4434-8fe6-66984269582f",
   "metadata": {},
   "outputs": [
    {
     "name": "stdout",
     "output_type": "stream",
     "text": [
      "<class 'pandas.core.frame.DataFrame'>\n",
      "RangeIndex: 2518 entries, 0 to 2517\n",
      "Data columns (total 6 columns):\n",
      " #   Column       Non-Null Count  Dtype \n",
      "---  ------       --------------  ----- \n",
      " 0   Date         2518 non-null   object\n",
      " 1    Close/Last  2518 non-null   object\n",
      " 2    Volume      2518 non-null   int64 \n",
      " 3    Open        2518 non-null   object\n",
      " 4    High        2518 non-null   object\n",
      " 5    Low         2518 non-null   object\n",
      "dtypes: int64(1), object(5)\n",
      "memory usage: 118.2+ KB\n"
     ]
    }
   ],
   "source": [
    "data.info()"
   ]
  },
  {
   "cell_type": "code",
   "execution_count": 5,
   "id": "ba831513-f48d-468c-aae1-467712c48600",
   "metadata": {},
   "outputs": [],
   "source": [
    "# Usuń spacje z nazw kolumn\n",
    "data.columns = data.columns.str.strip()\n",
    "\n",
    "# Usuń znak dolara i konwertuj na liczby zmiennoprzecinkowe\n",
    "data['Close/Last'] = data['Close/Last'].str.strip().str.replace(r'\\$', '', regex=True).astype(float)\n",
    "data['Open'] = data['Open'].str.strip().str.replace(r'\\$', '', regex=True).astype(float)\n",
    "data['High'] = data['High'].str.strip().str.replace(r'\\$', '', regex=True).astype(float)\n",
    "data['Low'] = data['Low'].str.strip().str.replace(r'\\$', '', regex=True).astype(float)\n"
   ]
  },
  {
   "cell_type": "code",
   "execution_count": 6,
   "id": "1c255a33-450f-4df5-a8a5-66bafb044177",
   "metadata": {},
   "outputs": [
    {
     "data": {
      "text/html": [
       "<div>\n",
       "<style scoped>\n",
       "    .dataframe tbody tr th:only-of-type {\n",
       "        vertical-align: middle;\n",
       "    }\n",
       "\n",
       "    .dataframe tbody tr th {\n",
       "        vertical-align: top;\n",
       "    }\n",
       "\n",
       "    .dataframe thead th {\n",
       "        text-align: right;\n",
       "    }\n",
       "</style>\n",
       "<table border=\"1\" class=\"dataframe\">\n",
       "  <thead>\n",
       "    <tr style=\"text-align: right;\">\n",
       "      <th></th>\n",
       "      <th>Date</th>\n",
       "      <th>Close/Last</th>\n",
       "      <th>Volume</th>\n",
       "      <th>Open</th>\n",
       "      <th>High</th>\n",
       "      <th>Low</th>\n",
       "    </tr>\n",
       "  </thead>\n",
       "  <tbody>\n",
       "    <tr>\n",
       "      <th>0</th>\n",
       "      <td>02/28/2020</td>\n",
       "      <td>273.3600</td>\n",
       "      <td>106721200</td>\n",
       "      <td>257.2600</td>\n",
       "      <td>278.4100</td>\n",
       "      <td>256.3700</td>\n",
       "    </tr>\n",
       "    <tr>\n",
       "      <th>1</th>\n",
       "      <td>02/27/2020</td>\n",
       "      <td>273.5200</td>\n",
       "      <td>80151380</td>\n",
       "      <td>281.1000</td>\n",
       "      <td>286.0000</td>\n",
       "      <td>272.9600</td>\n",
       "    </tr>\n",
       "    <tr>\n",
       "      <th>2</th>\n",
       "      <td>02/26/2020</td>\n",
       "      <td>292.6500</td>\n",
       "      <td>49678430</td>\n",
       "      <td>286.5300</td>\n",
       "      <td>297.8800</td>\n",
       "      <td>286.5000</td>\n",
       "    </tr>\n",
       "    <tr>\n",
       "      <th>3</th>\n",
       "      <td>02/25/2020</td>\n",
       "      <td>288.0800</td>\n",
       "      <td>57668360</td>\n",
       "      <td>300.9500</td>\n",
       "      <td>302.5300</td>\n",
       "      <td>286.1300</td>\n",
       "    </tr>\n",
       "    <tr>\n",
       "      <th>4</th>\n",
       "      <td>02/24/2020</td>\n",
       "      <td>298.1800</td>\n",
       "      <td>55548830</td>\n",
       "      <td>297.2600</td>\n",
       "      <td>304.1800</td>\n",
       "      <td>289.2300</td>\n",
       "    </tr>\n",
       "    <tr>\n",
       "      <th>...</th>\n",
       "      <td>...</td>\n",
       "      <td>...</td>\n",
       "      <td>...</td>\n",
       "      <td>...</td>\n",
       "      <td>...</td>\n",
       "      <td>...</td>\n",
       "    </tr>\n",
       "    <tr>\n",
       "      <th>2513</th>\n",
       "      <td>03/05/2010</td>\n",
       "      <td>31.2786</td>\n",
       "      <td>224647427</td>\n",
       "      <td>30.7057</td>\n",
       "      <td>31.3857</td>\n",
       "      <td>30.6614</td>\n",
       "    </tr>\n",
       "    <tr>\n",
       "      <th>2514</th>\n",
       "      <td>03/04/2010</td>\n",
       "      <td>30.1014</td>\n",
       "      <td>89591907</td>\n",
       "      <td>29.8971</td>\n",
       "      <td>30.1314</td>\n",
       "      <td>29.8043</td>\n",
       "    </tr>\n",
       "    <tr>\n",
       "      <th>2515</th>\n",
       "      <td>03/03/2010</td>\n",
       "      <td>29.9043</td>\n",
       "      <td>92846488</td>\n",
       "      <td>29.8486</td>\n",
       "      <td>29.9814</td>\n",
       "      <td>29.7057</td>\n",
       "    </tr>\n",
       "    <tr>\n",
       "      <th>2516</th>\n",
       "      <td>03/02/2010</td>\n",
       "      <td>29.8357</td>\n",
       "      <td>141486282</td>\n",
       "      <td>29.9900</td>\n",
       "      <td>30.1186</td>\n",
       "      <td>29.6771</td>\n",
       "    </tr>\n",
       "    <tr>\n",
       "      <th>2517</th>\n",
       "      <td>03/01/2010</td>\n",
       "      <td>29.8557</td>\n",
       "      <td>137312041</td>\n",
       "      <td>29.3928</td>\n",
       "      <td>29.9286</td>\n",
       "      <td>29.3500</td>\n",
       "    </tr>\n",
       "  </tbody>\n",
       "</table>\n",
       "<p>2518 rows × 6 columns</p>\n",
       "</div>"
      ],
      "text/plain": [
       "            Date  Close/Last     Volume      Open      High       Low\n",
       "0     02/28/2020    273.3600  106721200  257.2600  278.4100  256.3700\n",
       "1     02/27/2020    273.5200   80151380  281.1000  286.0000  272.9600\n",
       "2     02/26/2020    292.6500   49678430  286.5300  297.8800  286.5000\n",
       "3     02/25/2020    288.0800   57668360  300.9500  302.5300  286.1300\n",
       "4     02/24/2020    298.1800   55548830  297.2600  304.1800  289.2300\n",
       "...          ...         ...        ...       ...       ...       ...\n",
       "2513  03/05/2010     31.2786  224647427   30.7057   31.3857   30.6614\n",
       "2514  03/04/2010     30.1014   89591907   29.8971   30.1314   29.8043\n",
       "2515  03/03/2010     29.9043   92846488   29.8486   29.9814   29.7057\n",
       "2516  03/02/2010     29.8357  141486282   29.9900   30.1186   29.6771\n",
       "2517  03/01/2010     29.8557  137312041   29.3928   29.9286   29.3500\n",
       "\n",
       "[2518 rows x 6 columns]"
      ]
     },
     "execution_count": 6,
     "metadata": {},
     "output_type": "execute_result"
    }
   ],
   "source": [
    "data"
   ]
  },
  {
   "cell_type": "code",
   "execution_count": 7,
   "id": "6aa2f4e1-d0a8-4583-9cfe-556bbcf6e1b6",
   "metadata": {},
   "outputs": [
    {
     "name": "stdout",
     "output_type": "stream",
     "text": [
      "Podstawowe parametry statystyczne:\n",
      "        Close/Last        Volume         Open         High          Low\n",
      "count  2518.000000  2.518000e+03  2518.000000  2518.000000  2518.000000\n",
      "mean    114.769522  7.258009e+07   114.728443   115.766415   113.690582\n",
      "std      60.662405  5.663113e+07    60.546893    61.134456    60.085105\n",
      "min      29.835700  1.136205e+07    29.392800    29.928600    28.464300\n",
      "25%      66.822475  3.053026e+07    66.877150    67.475300    66.372950\n",
      "50%     101.090000  5.295469e+07   101.115000   102.085000   100.350000\n",
      "75%     154.630000  9.861006e+07   154.610000   155.735000   153.325000\n",
      "max     327.200000  4.624423e+08   324.740000   327.850000   323.350000\n"
     ]
    }
   ],
   "source": [
    "# Wyznaczanie podstawowych parametrów statystycznych\n",
    "basic_stats = data.describe()\n",
    "print(\"Podstawowe parametry statystyczne:\")\n",
    "print(basic_stats)\n"
   ]
  },
  {
   "cell_type": "code",
   "execution_count": 8,
   "id": "73791313-a873-4184-bcf8-d243665a2aef",
   "metadata": {},
   "outputs": [
    {
     "data": {
      "text/html": [
       "<div>\n",
       "<style scoped>\n",
       "    .dataframe tbody tr th:only-of-type {\n",
       "        vertical-align: middle;\n",
       "    }\n",
       "\n",
       "    .dataframe tbody tr th {\n",
       "        vertical-align: top;\n",
       "    }\n",
       "\n",
       "    .dataframe thead th {\n",
       "        text-align: right;\n",
       "    }\n",
       "</style>\n",
       "<table border=\"1\" class=\"dataframe\">\n",
       "  <thead>\n",
       "    <tr style=\"text-align: right;\">\n",
       "      <th></th>\n",
       "      <th>Date</th>\n",
       "      <th>Close/Last</th>\n",
       "      <th>Volume</th>\n",
       "      <th>Open</th>\n",
       "      <th>High</th>\n",
       "      <th>Low</th>\n",
       "      <th>Year</th>\n",
       "    </tr>\n",
       "  </thead>\n",
       "  <tbody>\n",
       "    <tr>\n",
       "      <th>0</th>\n",
       "      <td>2020-02-28</td>\n",
       "      <td>273.3600</td>\n",
       "      <td>106721200</td>\n",
       "      <td>257.2600</td>\n",
       "      <td>278.4100</td>\n",
       "      <td>256.3700</td>\n",
       "      <td>2020</td>\n",
       "    </tr>\n",
       "    <tr>\n",
       "      <th>1</th>\n",
       "      <td>2020-02-27</td>\n",
       "      <td>273.5200</td>\n",
       "      <td>80151380</td>\n",
       "      <td>281.1000</td>\n",
       "      <td>286.0000</td>\n",
       "      <td>272.9600</td>\n",
       "      <td>2020</td>\n",
       "    </tr>\n",
       "    <tr>\n",
       "      <th>2</th>\n",
       "      <td>2020-02-26</td>\n",
       "      <td>292.6500</td>\n",
       "      <td>49678430</td>\n",
       "      <td>286.5300</td>\n",
       "      <td>297.8800</td>\n",
       "      <td>286.5000</td>\n",
       "      <td>2020</td>\n",
       "    </tr>\n",
       "    <tr>\n",
       "      <th>3</th>\n",
       "      <td>2020-02-25</td>\n",
       "      <td>288.0800</td>\n",
       "      <td>57668360</td>\n",
       "      <td>300.9500</td>\n",
       "      <td>302.5300</td>\n",
       "      <td>286.1300</td>\n",
       "      <td>2020</td>\n",
       "    </tr>\n",
       "    <tr>\n",
       "      <th>4</th>\n",
       "      <td>2020-02-24</td>\n",
       "      <td>298.1800</td>\n",
       "      <td>55548830</td>\n",
       "      <td>297.2600</td>\n",
       "      <td>304.1800</td>\n",
       "      <td>289.2300</td>\n",
       "      <td>2020</td>\n",
       "    </tr>\n",
       "    <tr>\n",
       "      <th>...</th>\n",
       "      <td>...</td>\n",
       "      <td>...</td>\n",
       "      <td>...</td>\n",
       "      <td>...</td>\n",
       "      <td>...</td>\n",
       "      <td>...</td>\n",
       "      <td>...</td>\n",
       "    </tr>\n",
       "    <tr>\n",
       "      <th>2513</th>\n",
       "      <td>2010-03-05</td>\n",
       "      <td>31.2786</td>\n",
       "      <td>224647427</td>\n",
       "      <td>30.7057</td>\n",
       "      <td>31.3857</td>\n",
       "      <td>30.6614</td>\n",
       "      <td>2010</td>\n",
       "    </tr>\n",
       "    <tr>\n",
       "      <th>2514</th>\n",
       "      <td>2010-03-04</td>\n",
       "      <td>30.1014</td>\n",
       "      <td>89591907</td>\n",
       "      <td>29.8971</td>\n",
       "      <td>30.1314</td>\n",
       "      <td>29.8043</td>\n",
       "      <td>2010</td>\n",
       "    </tr>\n",
       "    <tr>\n",
       "      <th>2515</th>\n",
       "      <td>2010-03-03</td>\n",
       "      <td>29.9043</td>\n",
       "      <td>92846488</td>\n",
       "      <td>29.8486</td>\n",
       "      <td>29.9814</td>\n",
       "      <td>29.7057</td>\n",
       "      <td>2010</td>\n",
       "    </tr>\n",
       "    <tr>\n",
       "      <th>2516</th>\n",
       "      <td>2010-03-02</td>\n",
       "      <td>29.8357</td>\n",
       "      <td>141486282</td>\n",
       "      <td>29.9900</td>\n",
       "      <td>30.1186</td>\n",
       "      <td>29.6771</td>\n",
       "      <td>2010</td>\n",
       "    </tr>\n",
       "    <tr>\n",
       "      <th>2517</th>\n",
       "      <td>2010-03-01</td>\n",
       "      <td>29.8557</td>\n",
       "      <td>137312041</td>\n",
       "      <td>29.3928</td>\n",
       "      <td>29.9286</td>\n",
       "      <td>29.3500</td>\n",
       "      <td>2010</td>\n",
       "    </tr>\n",
       "  </tbody>\n",
       "</table>\n",
       "<p>2518 rows × 7 columns</p>\n",
       "</div>"
      ],
      "text/plain": [
       "           Date  Close/Last     Volume      Open      High       Low  Year\n",
       "0    2020-02-28    273.3600  106721200  257.2600  278.4100  256.3700  2020\n",
       "1    2020-02-27    273.5200   80151380  281.1000  286.0000  272.9600  2020\n",
       "2    2020-02-26    292.6500   49678430  286.5300  297.8800  286.5000  2020\n",
       "3    2020-02-25    288.0800   57668360  300.9500  302.5300  286.1300  2020\n",
       "4    2020-02-24    298.1800   55548830  297.2600  304.1800  289.2300  2020\n",
       "...         ...         ...        ...       ...       ...       ...   ...\n",
       "2513 2010-03-05     31.2786  224647427   30.7057   31.3857   30.6614  2010\n",
       "2514 2010-03-04     30.1014   89591907   29.8971   30.1314   29.8043  2010\n",
       "2515 2010-03-03     29.9043   92846488   29.8486   29.9814   29.7057  2010\n",
       "2516 2010-03-02     29.8357  141486282   29.9900   30.1186   29.6771  2010\n",
       "2517 2010-03-01     29.8557  137312041   29.3928   29.9286   29.3500  2010\n",
       "\n",
       "[2518 rows x 7 columns]"
      ]
     },
     "execution_count": 8,
     "metadata": {},
     "output_type": "execute_result"
    }
   ],
   "source": [
    "# Upewnij się, że kolumna 'Date' ma typ datetime\n",
    "data['Date'] = pd.to_datetime(data['Date'])\n",
    "\n",
    "# Dodaj kolumnę z rokiem\n",
    "data['Year'] = data['Date'].dt.year\n",
    "\n",
    "# Wybierz dane z 2020 roku i wcześniejsze\n",
    "data_2020 = data[data['Year'] == 2020]['Close/Last']\n",
    "data_2019 = data[data['Year'] < 2020]['Close/Last']\n",
    "data"
   ]
  },
  {
   "cell_type": "markdown",
   "id": "1ff654e0",
   "metadata": {},
   "source": [
    "## Testy parametryczne: t-studenta"
   ]
  },
  {
   "cell_type": "markdown",
   "id": "90081845",
   "metadata": {},
   "source": [
    "### Sprawdzenie normalności rozkładu \n",
    "Jedynym warunkiem jest normalność rozkładu zmiennych oraz brak istotnych różnic między wariancjami"
   ]
  },
  {
   "cell_type": "markdown",
   "id": "06b58565",
   "metadata": {},
   "source": [
    "Test t jest najbardziej powszechnie stosowaną metodą oceny różnic między średnimi w dwóch grupach."
   ]
  },
  {
   "cell_type": "code",
   "execution_count": 10,
   "id": "eaab6b32",
   "metadata": {},
   "outputs": [
    {
     "data": {
      "image/png": "[encoded data removed]",
      "text/plain": [
       "<Figure size 1400x600 with 2 Axes>"
      ]
     },
     "metadata": {},
     "output_type": "display_data"
    },
    {
     "name": "stdout",
     "output_type": "stream",
     "text": [
      "Test normalności dla danych z 2020 roku: Statystyka = 0.8593702315898601, p-value = 0.00015315563250292455\n",
      "Test normalności dla danych z 2019 roku: Statystyka = 0.9424814442238691, p-value = 5.0134010704408965e-30\n"
     ]
    }
   ],
   "source": [
    "\n",
    "# Tworzenie histogramów dla danych z 2020 i 2019 roku\n",
    "plt.figure(figsize=(14, 6))\n",
    "\n",
    "# Histogram dla danych z 2020 roku\n",
    "plt.subplot(1, 2, 1)\n",
    "sns.histplot(data_2020, kde=True, color='blue', bins=30)\n",
    "plt.title('Histogram dla danych z 2020 roku')\n",
    "\n",
    "# Histogram dla danych z 2019 roku\n",
    "plt.subplot(1, 2, 2)\n",
    "sns.histplot(data_2019, kde=True, color='green', bins=30)\n",
    "plt.title('Histogram dla danych z 2019 roku')\n",
    "\n",
    "plt.tight_layout()\n",
    "plt.show()\n",
    "\n",
    "# Test normalności (np. test Shapiro-Wilka)\n",
    "shapiro_test_2020 = stats.shapiro(data_2020)\n",
    "shapiro_test_2019 = stats.shapiro(data_2019)\n",
    "\n",
    "print(f\"Test normalności dla danych z 2020 roku: Statystyka = {shapiro_test_2020[0]}, p-value = {shapiro_test_2020[1]}\")\n",
    "print(f\"Test normalności dla danych z 2019 roku: Statystyka = {shapiro_test_2019[0]}, p-value = {shapiro_test_2019[1]}\")"
   ]
  },
  {
   "cell_type": "markdown",
   "id": "0ab81144",
   "metadata": {},
   "source": [
    "Test normalności dla danych z 2020 roku:\n",
    "Statystyka testu: 0.85937\n",
    "p-value: 0.000153\n",
    "Interpretacja:\n",
    "Test Shapiro-Wilka ma hipotezę zerową, która mówi, że dane mają rozkład normalny. Jeśli wartość p jest mniejsza niż wybrany poziom istotności (zwykle 0.05), odrzucamy hipotezę zerową i wnioskujemy, że dane nie mają rozkładu normalnego.\n",
    "Wartość p = 0.000153 jest znacznie mniejsza niż 0.05, więc odrzucamy hipotezę o normalności i stwierdzamy, że dane z 2020 roku nie mają rozkładu normalnego.\n"
   ]
  },
  {
   "cell_type": "markdown",
   "id": "0c259f0d",
   "metadata": {},
   "source": [
    "Test normalności dla danych z 2019 roku:\n",
    "Statystyka testu: 0.94248\n",
    "p-value: 5.0134e-30 (czyli bardzo bliskie 0)\n",
    "Interpretacja:\n",
    "Tak jak w poprzednim przypadku, wartość p jest znacznie mniejsza niż 0.05. Wartość p jest bliska zeru, co oznacza, że odrzucamy hipotezę o normalności i wnioskujemy, że dane z 2019 roku również nie mają rozkładu normalnego."
   ]
  },
  {
   "cell_type": "markdown",
   "id": "386945f0",
   "metadata": {},
   "source": [
    "W obu przypadkach (2019 i 2020 rok) p-value jest znacznie mniejsze niż 0.05, co prowadzi do wniosku, że dane nie są rozkładem normalnym. Oznacza to, że nie możemy przyjąć założenia o normalności tych danych, co może sugerować, że rozkład cen akcji w tych latach jest inny"
   ]
  },
  {
   "cell_type": "markdown",
   "id": "5824fa93",
   "metadata": {},
   "source": [
    "## Test Levene’a\n",
    "Test Levene’a sprawdza, czy wariancje w dwóch (lub więcej) grupach są równe. Hipotezy dla tego testu są następujące:\n",
    "\n",
    "Hipoteza zerowa (H₀): Wariancje są równe.\n",
    "Hipoteza alternatywna (H₁): Wariancje są różne."
   ]
  },
  {
   "cell_type": "code",
   "execution_count": 17,
   "id": "007c6316",
   "metadata": {},
   "outputs": [
    {
     "name": "stdout",
     "output_type": "stream",
     "text": [
      "Statystyka testu Levene’a: 39.08041628342675\n",
      "p-value testu Levene’a: 4.762349243578808e-10\n",
      "Odrzucamy hipotezę zerową: Istnieje istotna różnica między wariancjami.\n"
     ]
    }
   ],
   "source": [
    "# Przeprowadź test Levene’a dla danych z 2020 i 2019 roku\n",
    "levene_stat, p_value_levene = stats.levene(data_2020, data_2019)\n",
    "\n",
    "# Wydrukuj wyniki\n",
    "print(f\"Statystyka testu Levene’a: {levene_stat}\")\n",
    "print(f\"p-value testu Levene’a: {p_value_levene}\")\n",
    "\n",
    "# Sprawdzanie hipotezy zerowej\n",
    "if p_value_levene < 0.05:\n",
    "    print(\"Odrzucamy hipotezę zerową: Istnieje istotna różnica między wariancjami.\")\n",
    "else:\n",
    "    print(\"Nie ma podstaw do odrzucenia hipotezy zerowej: Wariancje są równe.\")"
   ]
  },
  {
   "cell_type": "markdown",
   "id": "5403f959",
   "metadata": {},
   "source": []
  },
  {
   "cell_type": "markdown",
   "id": "cb710630",
   "metadata": {},
   "source": []
  },
  {
   "cell_type": "code",
   "execution_count": null,
   "id": "efe7e041",
   "metadata": {},
   "outputs": [],
   "source": []
  },
  {
   "cell_type": "markdown",
   "id": "b491aa3e",
   "metadata": {},
   "source": []
  },
  {
   "cell_type": "markdown",
   "id": "4a92a6a5",
   "metadata": {},
   "source": []
  },
  {
   "cell_type": "markdown",
   "id": "52c61c26",
   "metadata": {},
   "source": []
  },
  {
   "cell_type": "code",
   "execution_count": 33,
   "id": "f1ef9c59-8798-4552-906c-e0f892de72b5",
   "metadata": {},
   "outputs": [
    {
     "name": "stdout",
     "output_type": "stream",
     "text": [
      "\n",
      "Test Manna-Whitneya:\n",
      "Statystyka: 99091.0, p-wartość: 1.8177014834407446e-27\n"
     ]
    }
   ],
   "source": [
    "# Testy nieparametryczne: test Manna-Whitneya (porównanie median dwóch okresów)\n",
    "stat_mw, p_value_mw = mannwhitneyu(data_2020, data_2019)\n",
    "print(f\"\\nTest Manna-Whitneya:\\nStatystyka: {stat_mw}, p-wartość: {p_value_mw}\")"
   ]
  },
  {
   "cell_type": "code",
   "execution_count": 34,
   "id": "d66ca6ae-d20d-4583-9492-a27851054672",
   "metadata": {},
   "outputs": [
    {
     "name": "stdout",
     "output_type": "stream",
     "text": [
      "\n",
      "ANOVA:\n",
      "Statystyka F: 3.747121959727578, p-wartość: 2.452112247668802e-05\n"
     ]
    }
   ],
   "source": [
    "# ANOVA (analiza wariancji dla miesięcy w 2020 roku)\n",
    "data['Month'] = data['Date'].dt.month\n",
    "anova_data = [data[data['Month'] == month]['Close/Last'] for month in range(1, 13)]\n",
    "anova_stat, p_value_anova = f_oneway(*anova_data)\n",
    "print(f\"\\nANOVA:\\nStatystyka F: {anova_stat}, p-wartość: {p_value_anova}\")"
   ]
  },
  {
   "cell_type": "code",
   "execution_count": 35,
   "id": "e138534d-041a-4e44-960a-c1a05835cf6c",
   "metadata": {},
   "outputs": [
    {
     "name": "stdout",
     "output_type": "stream",
     "text": [
      "\n",
      "Analiza regresji liniowej:\n",
      "Współczynnik nachylenia: -6.518182003019897e-07, Przecięcie: 162.0785486992661\n"
     ]
    }
   ],
   "source": [
    "# Analiza regresji liniowej: Cena zamknięcia vs Objętość obrotu (Volume)\n",
    "x = data['Volume'].values.reshape(-1, 1)\n",
    "y = data['Close/Last'].values.reshape(-1, 1)\n",
    "model = LinearRegression()\n",
    "model.fit(x, y)\n",
    "print(\"\\nAnaliza regresji liniowej:\")\n",
    "print(f\"Współczynnik nachylenia: {model.coef_[0][0]}, Przecięcie: {model.intercept_[0]}\")"
   ]
  },
  {
   "cell_type": "code",
   "execution_count": 36,
   "id": "fa932dbd-d755-4182-96b1-90169f95a1c7",
   "metadata": {},
   "outputs": [
    {
     "data": {
      "image/png": "[encoded data removed]",
      "text/plain": [
       "<Figure size 640x480 with 1 Axes>"
      ]
     },
     "metadata": {},
     "output_type": "display_data"
    }
   ],
   "source": [
    "# Wizualizacja regresji\n",
    "plt.scatter(data['Volume'], data['Close/Last'], alpha=0.5, label=\"Dane rzeczywiste\")\n",
    "plt.plot(data['Volume'], model.predict(x), color='red', label=\"Linia regresji\")\n",
    "plt.xlabel(\"Objętość obrotu (Volume)\")\n",
    "plt.ylabel(\"Cena zamknięcia (Close/Last)\")\n",
    "plt.title(\"Regresja liniowa: Cena zamknięcia vs Volume\")\n",
    "plt.legend()\n",
    "plt.show()"
   ]
  },
  {
   "cell_type": "code",
   "execution_count": 37,
   "id": "a136cc35-b11e-4b05-8d21-cc80a6094c97",
   "metadata": {},
   "outputs": [
    {
     "name": "stdout",
     "output_type": "stream",
     "text": [
      "\n",
      "Test Shapiro-Wilka:\n",
      "Statystyka: 0.9264905746486384, p-wartość: 1.8549724107893286e-33\n"
     ]
    }
   ],
   "source": [
    "# Test normalności Shapiro-Wilka\n",
    "stat_shapiro, p_value_shapiro = shapiro(data['Close/Last'])\n",
    "print(f\"\\nTest Shapiro-Wilka:\\nStatystyka: {stat_shapiro}, p-wartość: {p_value_shapiro}\")"
   ]
  },
  {
   "cell_type": "code",
   "execution_count": null,
   "id": "28fbc3ff-30ca-473c-aee9-c0e515bbe60b",
   "metadata": {},
   "outputs": [],
   "source": []
  }
 ],
 "metadata": {
  "kernelspec": {
   "display_name": "base",
   "language": "python",
   "name": "python3"
  },
  "language_info": {
   "codemirror_mode": {
    "name": "ipython",
    "version": 3
   },
   "file_extension": ".py",
   "mimetype": "text/x-python",
   "name": "python",
   "nbconvert_exporter": "python",
   "pygments_lexer": "ipython3",
   "version": "3.12.7"
  }
 },
 "nbformat": 4,
 "nbformat_minor": 5
}
